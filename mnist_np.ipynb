{
 "cells": [
  {
   "cell_type": "code",
   "execution_count": 1,
   "id": "d1e7677b",
   "metadata": {},
   "outputs": [
    {
     "name": "stdout",
     "output_type": "stream",
     "text": [
      "Populating the interactive namespace from numpy and matplotlib\n"
     ]
    }
   ],
   "source": [
    "%pylab inline\n",
    "import numpy as np\n",
    "from tqdm import trange\n",
    "np.set_printoptions(suppress=True)"
   ]
  },
  {
   "cell_type": "code",
   "execution_count": 2,
   "id": "a1b27c2e",
   "metadata": {},
   "outputs": [],
   "source": [
    "# load the mnist dataset\n",
    "\n",
    "def fetch(url):\n",
    "  import requests, gzip, os, hashlib, numpy\n",
    "  fp = os.path.join(\"/tmp\", hashlib.md5(url.encode('utf-8')).hexdigest())\n",
    "  if os.path.isfile(fp):\n",
    "    with open(fp, \"rb\") as f:\n",
    "      dat = f.read()\n",
    "  else:\n",
    "    with open(fp, \"wb\") as f:\n",
    "      dat = requests.get(url).content\n",
    "      f.write(dat)\n",
    "  return numpy.frombuffer(gzip.decompress(dat), dtype=np.uint8).copy()\n",
    "X_train = fetch(\"http://yann.lecun.com/exdb/mnist/train-images-idx3-ubyte.gz\")[0x10:].reshape((-1, 28, 28))\n",
    "Y_train = fetch(\"http://yann.lecun.com/exdb/mnist/train-labels-idx1-ubyte.gz\")[8:]\n",
    "X_test = fetch(\"http://yann.lecun.com/exdb/mnist/t10k-images-idx3-ubyte.gz\")[0x10:].reshape((-1, 28, 28))\n",
    "Y_test = fetch(\"http://yann.lecun.com/exdb/mnist/t10k-labels-idx1-ubyte.gz\")[8:]"
   ]
  },
  {
   "cell_type": "code",
   "execution_count": 3,
   "id": "a4e56639",
   "metadata": {},
   "outputs": [],
   "source": [
    "#model\n",
    "\n",
    "import torch \n",
    "import torch.nn as nn\n",
    "\n",
    "\n",
    "class ScratchNet(nn.Module):\n",
    "    def __init__(self):\n",
    "        super(ScratchNet, self).__init__()\n",
    "        self.l1 = nn.Linear(784, 128, bias=False)\n",
    "        self.act = nn.ReLU()\n",
    "        self.l2 = nn.Linear(128, 10, bias=False)\n",
    "        \n",
    "    def forward(self, x):\n",
    "        x = self.l1(x)\n",
    "        x = self.act(x)\n",
    "        x = self.l2(x)\n",
    "        return x\n",
    "        \n",
    "model = ScratchNet()\n"
   ]
  },
  {
   "cell_type": "code",
   "execution_count": 4,
   "id": "277f0aa2",
   "metadata": {},
   "outputs": [
    {
     "name": "stdout",
     "output_type": "stream",
     "text": [
      "(10, 28, 28)\n",
      "(10, 784)\n"
     ]
    }
   ],
   "source": [
    "print(X_train[0:10].shape)\n",
    "a  = X_train[0:10].reshape(-1, 28*28)\n",
    "print(a.shape)"
   ]
  },
  {
   "cell_type": "code",
   "execution_count": null,
   "id": "9931fd72",
   "metadata": {},
   "outputs": [],
   "source": []
  },
  {
   "cell_type": "code",
   "execution_count": 5,
   "id": "5a08b40c",
   "metadata": {},
   "outputs": [
    {
     "data": {
      "text/plain": [
       "tensor([[ 11.0974,  -3.4006,  22.6927,  -5.1369,  27.3621, -23.2192,   3.8462,\n",
       "          13.0286, -16.7455, -39.1692],\n",
       "        [ 26.0397,  26.6760,  17.7316,   1.7417,  38.8928, -28.9960, -22.8341,\n",
       "           8.2458,  -4.7510, -20.6826],\n",
       "        [  7.0904,  26.0841,  17.3570,  12.8837,  38.7696, -18.7537, -15.5012,\n",
       "          14.0444,   3.8829, -23.5329],\n",
       "        [ 10.8549,   6.5598,  20.2274, -13.3710,  -1.7586, -27.3057, -23.9947,\n",
       "          -9.3685,   1.9375, -32.2624],\n",
       "        [  7.5936,  12.2028,  37.6561, -12.0115,  24.9797, -10.2103, -38.5721,\n",
       "          -0.1587, -23.2854, -46.9485],\n",
       "        [  1.4871,  10.3490,  -5.6309,  -2.0617,  44.1153, -26.4623,  -8.5208,\n",
       "         -10.4469, -22.3628, -34.6993],\n",
       "        [ -9.3243,  -9.9268,  24.7773,   0.3062,  30.2043, -20.0442,  -0.0964,\n",
       "           1.8198,  -1.0527, -27.0657],\n",
       "        [ -1.7846,   0.5598,  32.6572, -16.4307,  48.8783, -25.0273,  -8.5570,\n",
       "          21.7623, -13.5151, -34.7773],\n",
       "        [  0.8163, -11.9055,  16.0728,  -5.1106,   9.5579, -14.3041, -10.2179,\n",
       "          -1.2021, -17.9354, -27.9226],\n",
       "        [-16.2473,  30.2604,  12.8790,  10.1181,  42.3309, -15.7091, -25.9080,\n",
       "          -6.4987,  -2.8245, -41.1042]], grad_fn=<MmBackward0>)"
      ]
     },
     "execution_count": 5,
     "metadata": {},
     "output_type": "execute_result"
    }
   ],
   "source": [
    "model(torch.Tensor(X_train[0:10]).reshape(-1, 28*28))"
   ]
  },
  {
   "cell_type": "code",
   "execution_count": 6,
   "id": "13b8c6af",
   "metadata": {},
   "outputs": [
    {
     "data": {
      "text/plain": [
       "100"
      ]
     },
     "execution_count": 6,
     "metadata": {},
     "output_type": "execute_result"
    }
   ],
   "source": [
    "len(Y_train[0:100])"
   ]
  },
  {
   "cell_type": "code",
   "execution_count": 7,
   "id": "9f244f68",
   "metadata": {},
   "outputs": [
    {
     "name": "stderr",
     "output_type": "stream",
     "text": [
      "loss 46.13 accuracy 0.18:   0%|          | 0/1000 [00:00<?, ?it/s]"
     ]
    },
    {
     "name": "stderr",
     "output_type": "stream",
     "text": [
      "loss 0.23 accuracy 0.94: 100%|██████████| 1000/1000 [00:03<00:00, 287.31it/s]\n"
     ]
    },
    {
     "data": {
      "text/plain": [
       "[<matplotlib.lines.Line2D at 0x7f8886dacaf0>]"
      ]
     },
     "execution_count": 7,
     "metadata": {},
     "output_type": "execute_result"
    },
    {
     "data": {
      "image/png": "[encoded data removed]",
      "text/plain": [
       "<Figure size 432x288 with 1 Axes>"
      ]
     },
     "metadata": {
      "needs_background": "light"
     },
     "output_type": "display_data"
    }
   ],
   "source": [
    "#training\n",
    "\n",
    "loss_function = nn.CrossEntropyLoss()\n",
    "optim = torch.optim.SGD(model.parameters(), lr = 0.001)\n",
    "BATCH_SIZE = 128\n",
    "losses, accuracies = [], []\n",
    "for i in (t := trange(1000)):\n",
    "  samp = np.random.randint(0, X_train.shape[0], size=(BATCH_SIZE))\n",
    "  X = torch.tensor(X_train[samp].reshape((-1, 28*28))).float()\n",
    "  Y = torch.tensor(Y_train[samp]).long()\n",
    "  model.zero_grad()\n",
    "  out = model(X)\n",
    "  accc = torch.argmax(out, dim=1)\n",
    "  accuracy = (accc == Y).float().mean()\n",
    "  loss = loss_function(out, Y)\n",
    "  loss = loss.mean()\n",
    "  loss.backward()\n",
    "  optim.step()\n",
    "  loss, accuracy = loss.item(), accuracy.item()\n",
    "  losses.append(loss)\n",
    "  accuracies.append(accuracy)\n",
    "  t.set_description(\"loss %.2f accuracy %.2f\" % (loss, accuracy))\n",
    "plt.ylim(-0.1, 1.1)\n",
    "plot(losses)\n",
    "plot(accuracies)"
   ]
  },
  {
   "cell_type": "code",
   "execution_count": 8,
   "id": "7db74731",
   "metadata": {},
   "outputs": [
    {
     "data": {
      "text/plain": [
       "0.9275"
      ]
     },
     "execution_count": 8,
     "metadata": {},
     "output_type": "execute_result"
    }
   ],
   "source": [
    "#Evaluation\n",
    "Y_test_preds = torch.argmax(model(torch.tensor(X_test.reshape((-1, 28*28))).float()), dim=1).numpy()\n",
    "(Y_test == Y_test_preds).mean()"
   ]
  },
  {
   "cell_type": "code",
   "execution_count": 9,
   "id": "7c22759d",
   "metadata": {},
   "outputs": [
    {
     "data": {
      "text/plain": [
       "array([[0., 0., 0., ..., 0., 0., 0.],\n",
       "       [0., 0., 0., ..., 0., 0., 0.],\n",
       "       [0., 0., 0., ..., 0., 0., 0.],\n",
       "       ...,\n",
       "       [0., 0., 0., ..., 0., 0., 0.],\n",
       "       [0., 0., 0., ..., 0., 0., 0.],\n",
       "       [0., 0., 0., ..., 0., 0., 0.]], dtype=float32)"
      ]
     },
     "execution_count": 9,
     "metadata": {},
     "output_type": "execute_result"
    }
   ],
   "source": [
    "l1 = np.zeros((784, 128), dtype=np.float32)\n",
    "l2 = np.zeros((128, 10), dtype=np.float32)\n",
    "l1"
   ]
  },
  {
   "cell_type": "code",
   "execution_count": 10,
   "id": "ba513247",
   "metadata": {},
   "outputs": [
    {
     "name": "stdout",
     "output_type": "stream",
     "text": [
      "<class '__main__.ScratchNet'>\n",
      "<class 'torch.nn.modules.linear.Linear'>\n",
      "<class 'torch.nn.parameter.Parameter'>\n",
      "<class 'torch.Tensor'>\n"
     ]
    }
   ],
   "source": [
    "#let's print the dtypes of all \n",
    "print(type(model))\n",
    "print(type(model.l1))\n",
    "print(type(model.l1.weight))\n",
    "print(type(model.l1.weight[0]))\n"
   ]
  },
  {
   "cell_type": "code",
   "execution_count": 11,
   "id": "5d588d6e",
   "metadata": {},
   "outputs": [],
   "source": [
    "# Why Detach?: Sometimes, you might want to perform some operations on a tensor without having these operations tracked in the computation graph.\n",
    "\n",
    "l1[:] = model.l1.weight.detach().numpy().transpose()\n",
    "l2[:] = model.l2.weight.detach().numpy().transpose()\n"
   ]
  },
  {
   "cell_type": "code",
   "execution_count": 12,
   "id": "be36283f",
   "metadata": {},
   "outputs": [
    {
     "data": {
      "text/plain": [
       "(10000, 784)"
      ]
     },
     "execution_count": 12,
     "metadata": {},
     "output_type": "execute_result"
    }
   ],
   "source": [
    "X_test.reshape((-1, 28*28)).shape\n"
   ]
  },
  {
   "cell_type": "code",
   "execution_count": 14,
   "id": "1578256e",
   "metadata": {},
   "outputs": [
    {
     "data": {
      "text/plain": [
       "(10000, 10)"
      ]
     },
     "execution_count": 14,
     "metadata": {},
     "output_type": "execute_result"
    }
   ],
   "source": [
    "def forward(x):\n",
    "    x = x.dot(l1)\n",
    "    x = np.maximum(x, 0)\n",
    "    x = x.dot(l2)\n",
    "    return x\n",
    "\n",
    "\n",
    "forward(X_test.reshape((-1, 28*28))).shape\n"
   ]
  },
  {
   "cell_type": "code",
   "execution_count": 24,
   "id": "dbb6451c",
   "metadata": {},
   "outputs": [
    {
     "data": {
      "text/plain": [
       "array([7, 2, 1, ..., 4, 5, 6])"
      ]
     },
     "execution_count": 24,
     "metadata": {},
     "output_type": "execute_result"
    }
   ],
   "source": [
    "Y_test_preds_out = forward(X_test.reshape((-1, 28*28)))\n",
    "Y_test_preds = np.argmax(forward(X_test.reshape((-1, 28*28))), axis=1)\n",
    "Y_test_preds"
   ]
  },
  {
   "cell_type": "code",
   "execution_count": 23,
   "id": "0dba915c",
   "metadata": {},
   "outputs": [
    {
     "data": {
      "text/plain": [
       "0.9275"
      ]
     },
     "execution_count": 23,
     "metadata": {},
     "output_type": "execute_result"
    }
   ],
   "source": [
    "(Y_test == Y_test_preds).mean()"
   ]
  },
  {
   "cell_type": "code",
   "execution_count": 34,
   "id": "c412f99a",
   "metadata": {},
   "outputs": [
    {
     "data": {
      "text/plain": [
       "array([ -9.799355  ,  -0.32608128, -23.27645   , ...,  -7.67814   ,\n",
       "       -43.84518   ,   9.204264  ], dtype=float32)"
      ]
     },
     "execution_count": 34,
     "metadata": {},
     "output_type": "execute_result"
    }
   ],
   "source": [
    "#Lets do the training in numpy\n",
    "\n",
    "np.log(np.exp(Y_test_preds_out)).sum(axis=1)"
   ]
  },
  {
   "cell_type": "code",
   "execution_count": 45,
   "id": "5b9ed1e3",
   "metadata": {},
   "outputs": [
    {
     "data": {
      "text/plain": [
       "12.57369"
      ]
     },
     "execution_count": 45,
     "metadata": {},
     "output_type": "execute_result"
    }
   ],
   "source": [
    "#cross entropy loss formual--> log part \n",
    "\n",
    "np.log(np.exp(Y_test_preds_out[0]).sum())"
   ]
  },
  {
   "cell_type": "code",
   "execution_count": 54,
   "id": "92d44332",
   "metadata": {},
   "outputs": [
    {
     "data": {
      "text/plain": [
       "array([12.573588 , 13.686531 ,  6.923329 , ..., 10.257198 ,  6.9869366,\n",
       "       15.226138 ], dtype=float32)"
      ]
     },
     "execution_count": 54,
     "metadata": {},
     "output_type": "execute_result"
    }
   ],
   "source": [
    "#for all the 10000 examples calculating the loss\n",
    "\n",
    "Y_test_preds_out[range(Y_test_preds_out.shape[0]), Y_test] "
   ]
  },
  {
   "cell_type": "code",
   "execution_count": 57,
   "id": "4de61d95",
   "metadata": {},
   "outputs": [],
   "source": [
    "#full loss formula and calculating for all the 10K examples\n",
    "\n",
    "CE = -Y_test_preds_out[range(Y_test_preds_out.shape[0]), Y_test] + \\\n",
    "    np.log(np.exp(Y_test_preds_out[0]).sum())\n"
   ]
  },
  {
   "cell_type": "code",
   "execution_count": 58,
   "id": "95a5f18e",
   "metadata": {},
   "outputs": [
    {
     "data": {
      "text/plain": [
       "[<matplotlib.lines.Line2D at 0x7f887e8fb640>]"
      ]
     },
     "execution_count": 58,
     "metadata": {},
     "output_type": "execute_result"
    },
    {
     "data": {
      "image/png": "[encoded data removed]",
      "text/plain": [
       "<Figure size 432x288 with 1 Axes>"
      ]
     },
     "metadata": {
      "needs_background": "light"
     },
     "output_type": "display_data"
    }
   ],
   "source": [
    "plot(CE)"
   ]
  },
  {
   "cell_type": "code",
   "execution_count": null,
   "id": "974eacde",
   "metadata": {},
   "outputs": [],
   "source": []
  }
 ],
 "metadata": {
  "kernelspec": {
   "display_name": "Python 3 (ipykernel)",
   "language": "python",
   "name": "python3"
  },
  "language_info": {
   "codemirror_mode": {
    "name": "ipython",
    "version": 3
   },
   "file_extension": ".py",
   "mimetype": "text/x-python",
   "name": "python",
   "nbconvert_exporter": "python",
   "pygments_lexer": "ipython3",
   "version": "3.8.12"
  }
 },
 "nbformat": 4,
 "nbformat_minor": 5
}
