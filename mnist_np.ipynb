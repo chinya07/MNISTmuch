{
 "cells": [
  {
   "cell_type": "code",
   "execution_count": 44,
   "id": "7fce2515",
   "metadata": {},
   "outputs": [
    {
     "name": "stdout",
     "output_type": "stream",
     "text": [
      "Populating the interactive namespace from numpy and matplotlib\n"
     ]
    }
   ],
   "source": [
    "%pylab inline\n",
    "import numpy as np\n",
    "from tqdm import trange\n",
    "np.set_printoptions(suppress=True)"
   ]
  },
  {
   "cell_type": "code",
   "execution_count": 45,
   "id": "854ae33f",
   "metadata": {},
   "outputs": [],
   "source": [
    "# load the mnist dataset\n",
    "\n",
    "def fetch(url):\n",
    "  import requests, gzip, os, hashlib, numpy\n",
    "  fp = os.path.join(\"/tmp\", hashlib.md5(url.encode('utf-8')).hexdigest())\n",
    "  if os.path.isfile(fp):\n",
    "    with open(fp, \"rb\") as f:\n",
    "      dat = f.read()\n",
    "  else:\n",
    "    with open(fp, \"wb\") as f:\n",
    "      dat = requests.get(url).content\n",
    "      f.write(dat)\n",
    "  return numpy.frombuffer(gzip.decompress(dat), dtype=np.uint8).copy()\n",
    "X_train = fetch(\"http://yann.lecun.com/exdb/mnist/train-images-idx3-ubyte.gz\")[0x10:].reshape((-1, 28, 28))\n",
    "Y_train = fetch(\"http://yann.lecun.com/exdb/mnist/train-labels-idx1-ubyte.gz\")[8:]\n",
    "X_test = fetch(\"http://yann.lecun.com/exdb/mnist/t10k-images-idx3-ubyte.gz\")[0x10:].reshape((-1, 28, 28))\n",
    "Y_test = fetch(\"http://yann.lecun.com/exdb/mnist/t10k-labels-idx1-ubyte.gz\")[8:]"
   ]
  },
  {
   "cell_type": "code",
   "execution_count": 46,
   "id": "03a3fbda",
   "metadata": {},
   "outputs": [],
   "source": [
    "import torch \n",
    "import torch.nn as nn\n",
    "\n",
    "\n",
    "class ScratchNet(nn.Module):\n",
    "    def __init__(self):\n",
    "        super(ScratchNet, self).__init__()\n",
    "        self.l1 = nn.Linear(784, 128)\n",
    "        self.act = nn.ReLU()\n",
    "        self.l2 = nn.Linear(128, 10)\n",
    "        \n",
    "    def forward(self, x):\n",
    "        x = self.l1(x)\n",
    "        x = self.act(x)\n",
    "        x = self.l2(x)\n",
    "        return x\n",
    "        \n",
    "model = ScratchNet()"
   ]
  },
  {
   "cell_type": "code",
   "execution_count": 47,
   "id": "686e157a",
   "metadata": {},
   "outputs": [
    {
     "name": "stdout",
     "output_type": "stream",
     "text": [
      "(10, 28, 28)\n",
      "(10, 784)\n"
     ]
    }
   ],
   "source": [
    "print(X_train[0:10].shape)\n",
    "a  = X_train[0:10].reshape(-1, 28*28)\n",
    "print(a.shape)"
   ]
  },
  {
   "cell_type": "code",
   "execution_count": null,
   "id": "30443dda",
   "metadata": {},
   "outputs": [],
   "source": []
  },
  {
   "cell_type": "code",
   "execution_count": 48,
   "id": "27a925a4",
   "metadata": {},
   "outputs": [
    {
     "data": {
      "text/plain": [
       "tensor([[ -8.7294, -40.7924,  -5.1922, -17.3163,  30.5243, -11.0190, -36.0637,\n",
       "         -17.0534,  -2.2833,  27.1117],\n",
       "        [ 17.2224, -22.9939, -21.8972,   8.0773,  47.2264, -10.0010,  -3.7772,\n",
       "           6.3913, -37.4070,  -3.5456],\n",
       "        [ -3.6845,  -3.2280,  -9.6852, -25.1005,  43.2366, -12.8811,  -3.3674,\n",
       "          -1.5336,  -0.1299, -13.3045],\n",
       "        [ -3.4527, -20.9818,  -9.8453,  -5.6743,  28.0372,   1.7347,   7.0825,\n",
       "         -17.4348,  -0.4943,  -3.3430],\n",
       "        [  6.5234,  23.5770,   9.2504,  -9.4097,   6.0952,   0.3314,  30.2047,\n",
       "         -23.2089,  -6.4141, -19.7677],\n",
       "        [ -4.5884, -22.8849,  13.0549,  -0.2556,  34.4326,  20.4471,  20.0969,\n",
       "          -1.5556,   5.9761,  -5.9191],\n",
       "        [ 11.2735, -24.7448,  14.3460,  11.9172,  15.2380,   4.3279,  17.0196,\n",
       "         -37.0430, -19.9623, -10.1763],\n",
       "        [ 42.4244, -18.2793,  17.0930, -17.3159,  51.0635,   2.6671,  -0.4172,\n",
       "         -21.1355, -11.3970,   2.4367],\n",
       "        [  2.5585,  -2.9189,  12.6431,  18.4483,  10.7416,   6.9662,  16.2139,\n",
       "          -8.5956, -15.1714,   0.1204],\n",
       "        [ 20.7534, -17.6464,  16.9891,  -0.4347,  28.7030,  -8.6785,  13.2792,\n",
       "         -16.1402, -16.9702, -14.6200]], grad_fn=<AddmmBackward0>)"
      ]
     },
     "execution_count": 48,
     "metadata": {},
     "output_type": "execute_result"
    }
   ],
   "source": [
    "model(torch.Tensor(X_train[0:10]).reshape(-1, 28*28))"
   ]
  },
  {
   "cell_type": "code",
   "execution_count": 49,
   "id": "f300fd01",
   "metadata": {},
   "outputs": [
    {
     "data": {
      "text/plain": [
       "100"
      ]
     },
     "execution_count": 49,
     "metadata": {},
     "output_type": "execute_result"
    }
   ],
   "source": [
    "len(Y_train[0:100])"
   ]
  },
  {
   "cell_type": "code",
   "execution_count": 100,
   "id": "04ce65ed",
   "metadata": {},
   "outputs": [
    {
     "name": "stderr",
     "output_type": "stream",
     "text": [
      "loss is 2.32 and accuracy is 0.03: 100%|████████████████████████████████████████████████████████████████████████| 10/10 [00:00<00:00, 272.81it/s]\n"
     ]
    },
    {
     "data": {
      "text/plain": [
       "[<matplotlib.lines.Line2D at 0x7ff035a112b0>]"
      ]
     },
     "execution_count": 100,
     "metadata": {},
     "output_type": "execute_result"
    },
    {
     "data": {
      "image/png": "[encoded data removed]",
      "text/plain": [
       "<Figure size 432x288 with 1 Axes>"
      ]
     },
     "metadata": {
      "needs_background": "light"
     },
     "output_type": "display_data"
    }
   ],
   "source": [
    "BATCH_SIZE = 32\n",
    "loss_function = nn.CrossEntropyLoss()\n",
    "optim = torch.optim.Adam(model.parameters())\n",
    "losses, accuracies = [], []\n",
    "for i in (t := trange(10)):\n",
    "    samp = np.random.randint(0, X_train.shape[0], size = (BATCH_SIZE))\n",
    "    X = torch.tensor(X_train[samp].reshape((-1, 28*28))).float()\n",
    "    Y = torch.tensor(Y_train[samp]).long()\n",
    "    optim.zero_grad()\n",
    "    out = model(X)\n",
    "    acc = torch.argmax(out, dim=1)\n",
    "    accuracy = (acc==Y).float().mean()\n",
    "    loss = loss_function(out, Y)\n",
    "    loss.backward()\n",
    "    optim.step()\n",
    "    loss, accuracy = loss.item(), accuracy.item()\n",
    "    losses.append(loss)\n",
    "    accuracies.append(accuracy)\n",
    "    t.set_description(\"loss is %.2f and accuracy is %.2f\" % (loss, accuracy))\n",
    "\n",
    "    \n",
    "plot(losses)\n",
    "plot(accuracies)"
   ]
  },
  {
   "cell_type": "code",
   "execution_count": 92,
   "id": "30fdec40",
   "metadata": {},
   "outputs": [
    {
     "data": {
      "text/plain": [
       "array([[[0, 0, 0, ..., 0, 0, 0],\n",
       "        [0, 0, 0, ..., 0, 0, 0],\n",
       "        [0, 0, 0, ..., 0, 0, 0],\n",
       "        ...,\n",
       "        [0, 0, 0, ..., 0, 0, 0],\n",
       "        [0, 0, 0, ..., 0, 0, 0],\n",
       "        [0, 0, 0, ..., 0, 0, 0]],\n",
       "\n",
       "       [[0, 0, 0, ..., 0, 0, 0],\n",
       "        [0, 0, 0, ..., 0, 0, 0],\n",
       "        [0, 0, 0, ..., 0, 0, 0],\n",
       "        ...,\n",
       "        [0, 0, 0, ..., 0, 0, 0],\n",
       "        [0, 0, 0, ..., 0, 0, 0],\n",
       "        [0, 0, 0, ..., 0, 0, 0]]], dtype=uint8)"
      ]
     },
     "execution_count": 92,
     "metadata": {},
     "output_type": "execute_result"
    }
   ],
   "source": [
    "l = np.random.randint(0,100, size=32)\n",
    "X_train[[0, 1]]"
   ]
  },
  {
   "cell_type": "code",
   "execution_count": null,
   "id": "4953a80c",
   "metadata": {},
   "outputs": [],
   "source": []
  }
 ],
 "metadata": {
  "kernelspec": {
   "display_name": "Python 3 (ipykernel)",
   "language": "python",
   "name": "python3"
  },
  "language_info": {
   "codemirror_mode": {
    "name": "ipython",
    "version": 3
   },
   "file_extension": ".py",
   "mimetype": "text/x-python",
   "name": "python",
   "nbconvert_exporter": "python",
   "pygments_lexer": "ipython3",
   "version": "3.8.12"
  }
 },
 "nbformat": 4,
 "nbformat_minor": 5
}
